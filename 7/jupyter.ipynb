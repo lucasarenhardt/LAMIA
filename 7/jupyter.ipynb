{
 "cells": [
  {
   "cell_type": "markdown",
   "id": "710e8480-3a13-4f96-a000-d5d923d59788",
   "metadata": {},
   "source": [
    "# Jupyter Notebook\n",
    "## Teste do Jupyter\n",
    "Lorem ipsum dolor sit amet. Sed vitae officia non dolorum ducimus\n",
    "et neque molestiae et doloremque repudiandae est cumque neque. \n",
    "Ut unde exercitationem ea consequuntur consequatur \n",
    "ut earum officia aut consequatur quos et Quis quia.\n",
    "\n",
    "1. Mauris varius enim sapien\n",
    "2. Ut ultrices consequat\n",
    "3. Aenean nec lacus"
   ]
  },
  {
   "cell_type": "code",
   "execution_count": 3,
   "id": "75c2875a-4a48-4d71-bc5e-8020cad3dbce",
   "metadata": {
    "scrolled": true
   },
   "outputs": [
    {
     "name": "stdout",
     "output_type": "stream",
     "text": [
      "Queria um civic\n"
     ]
    }
   ],
   "source": [
    "print(\"Queria um civic\")"
   ]
  },
  {
   "cell_type": "code",
   "execution_count": 4,
   "id": "b23f7929-2c99-4b60-83e1-7a8c2ccbafe7",
   "metadata": {},
   "outputs": [],
   "source": [
    "import cv2 as cv\n",
    "import numpy as np"
   ]
  },
  {
   "cell_type": "code",
   "execution_count": 5,
   "id": "83ef7dee-2e2e-4eab-81ec-820a0125ad87",
   "metadata": {},
   "outputs": [],
   "source": [
    "image = 255 * np.ones((300,600, 3))"
   ]
  },
  {
   "cell_type": "code",
   "execution_count": 6,
   "id": "924199ea-b7b8-4a8f-b0bb-0ccf241782ee",
   "metadata": {},
   "outputs": [],
   "source": [
    "cv.circle(image, (300, 150), 100, (0,0,255), -1)\n",
    "cv.imshow(\"Japao\", image)\n",
    "cv.waitKey(0)\n",
    "cv.destroyAllWindows()"
   ]
  },
  {
   "cell_type": "markdown",
   "id": "a1e307be-7ecf-413d-a0c0-2c471afcc443",
   "metadata": {},
   "source": [
    "O código acima desenha a bandeira do Japão"
   ]
  }
 ],
 "metadata": {
  "kernelspec": {
   "display_name": "Python 3 (ipykernel)",
   "language": "python",
   "name": "python3"
  },
  "language_info": {
   "codemirror_mode": {
    "name": "ipython",
    "version": 3
   },
   "file_extension": ".py",
   "mimetype": "text/x-python",
   "name": "python",
   "nbconvert_exporter": "python",
   "pygments_lexer": "ipython3",
   "version": "3.10.12"
  }
 },
 "nbformat": 4,
 "nbformat_minor": 5
}
