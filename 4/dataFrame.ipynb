{
 "cells": [
  {
   "cell_type": "code",
   "execution_count": 2,
   "metadata": {},
   "outputs": [],
   "source": [
    "import numpy as np\n",
    "import pandas as pd"
   ]
  },
  {
   "cell_type": "code",
   "execution_count": 3,
   "metadata": {},
   "outputs": [],
   "source": [
    "np.random.seed(40)"
   ]
  },
  {
   "cell_type": "code",
   "execution_count": 4,
   "metadata": {},
   "outputs": [],
   "source": [
    "#cria um dataframe com 4 linhas e 6 colunas, preenche com dados aleatorios e rotula \n",
    "df = pd.DataFrame(data=np.random.randn(4,6), index = 'A B C D'.split(), columns='U V W X Y Z'.split())"
   ]
  },
  {
   "cell_type": "code",
   "execution_count": 5,
   "metadata": {},
   "outputs": [
    {
     "data": {
      "text/html": [
       "<div>\n",
       "<style scoped>\n",
       "    .dataframe tbody tr th:only-of-type {\n",
       "        vertical-align: middle;\n",
       "    }\n",
       "\n",
       "    .dataframe tbody tr th {\n",
       "        vertical-align: top;\n",
       "    }\n",
       "\n",
       "    .dataframe thead th {\n",
       "        text-align: right;\n",
       "    }\n",
       "</style>\n",
       "<table border=\"1\" class=\"dataframe\">\n",
       "  <thead>\n",
       "    <tr style=\"text-align: right;\">\n",
       "      <th></th>\n",
       "      <th>U</th>\n",
       "      <th>V</th>\n",
       "      <th>W</th>\n",
       "      <th>X</th>\n",
       "      <th>Y</th>\n",
       "      <th>Z</th>\n",
       "    </tr>\n",
       "  </thead>\n",
       "  <tbody>\n",
       "    <tr>\n",
       "      <th>A</th>\n",
       "      <td>-0.607548</td>\n",
       "      <td>-0.126136</td>\n",
       "      <td>-0.684606</td>\n",
       "      <td>0.928715</td>\n",
       "      <td>-1.844401</td>\n",
       "      <td>-0.467002</td>\n",
       "    </tr>\n",
       "    <tr>\n",
       "      <th>B</th>\n",
       "      <td>2.292490</td>\n",
       "      <td>0.488810</td>\n",
       "      <td>0.710267</td>\n",
       "      <td>1.055534</td>\n",
       "      <td>0.054073</td>\n",
       "      <td>0.257953</td>\n",
       "    </tr>\n",
       "    <tr>\n",
       "      <th>C</th>\n",
       "      <td>0.588282</td>\n",
       "      <td>0.885244</td>\n",
       "      <td>-1.017007</td>\n",
       "      <td>-0.133693</td>\n",
       "      <td>-0.438186</td>\n",
       "      <td>0.493443</td>\n",
       "    </tr>\n",
       "    <tr>\n",
       "      <th>D</th>\n",
       "      <td>-0.199009</td>\n",
       "      <td>-1.274984</td>\n",
       "      <td>0.293494</td>\n",
       "      <td>0.108950</td>\n",
       "      <td>0.031727</td>\n",
       "      <td>1.272640</td>\n",
       "    </tr>\n",
       "  </tbody>\n",
       "</table>\n",
       "</div>"
      ],
      "text/plain": [
       "          U         V         W         X         Y         Z\n",
       "A -0.607548 -0.126136 -0.684606  0.928715 -1.844401 -0.467002\n",
       "B  2.292490  0.488810  0.710267  1.055534  0.054073  0.257953\n",
       "C  0.588282  0.885244 -1.017007 -0.133693 -0.438186  0.493443\n",
       "D -0.199009 -1.274984  0.293494  0.108950  0.031727  1.272640"
      ]
     },
     "execution_count": 5,
     "metadata": {},
     "output_type": "execute_result"
    }
   ],
   "source": [
    "df"
   ]
  },
  {
   "cell_type": "code",
   "execution_count": 6,
   "metadata": {},
   "outputs": [
    {
     "data": {
      "text/plain": [
       "A   -0.607548\n",
       "B    2.292490\n",
       "C    0.588282\n",
       "D   -0.199009\n",
       "Name: U, dtype: float64"
      ]
     },
     "execution_count": 6,
     "metadata": {},
     "output_type": "execute_result"
    }
   ],
   "source": [
    "#seleciona a coluna U\n",
    "df['U']"
   ]
  },
  {
   "cell_type": "code",
   "execution_count": 7,
   "metadata": {},
   "outputs": [
    {
     "data": {
      "text/html": [
       "<div>\n",
       "<style scoped>\n",
       "    .dataframe tbody tr th:only-of-type {\n",
       "        vertical-align: middle;\n",
       "    }\n",
       "\n",
       "    .dataframe tbody tr th {\n",
       "        vertical-align: top;\n",
       "    }\n",
       "\n",
       "    .dataframe thead th {\n",
       "        text-align: right;\n",
       "    }\n",
       "</style>\n",
       "<table border=\"1\" class=\"dataframe\">\n",
       "  <thead>\n",
       "    <tr style=\"text-align: right;\">\n",
       "      <th></th>\n",
       "      <th>V</th>\n",
       "      <th>W</th>\n",
       "    </tr>\n",
       "  </thead>\n",
       "  <tbody>\n",
       "    <tr>\n",
       "      <th>A</th>\n",
       "      <td>-0.126136</td>\n",
       "      <td>-0.684606</td>\n",
       "    </tr>\n",
       "    <tr>\n",
       "      <th>B</th>\n",
       "      <td>0.488810</td>\n",
       "      <td>0.710267</td>\n",
       "    </tr>\n",
       "    <tr>\n",
       "      <th>C</th>\n",
       "      <td>0.885244</td>\n",
       "      <td>-1.017007</td>\n",
       "    </tr>\n",
       "    <tr>\n",
       "      <th>D</th>\n",
       "      <td>-1.274984</td>\n",
       "      <td>0.293494</td>\n",
       "    </tr>\n",
       "  </tbody>\n",
       "</table>\n",
       "</div>"
      ],
      "text/plain": [
       "          V         W\n",
       "A -0.126136 -0.684606\n",
       "B  0.488810  0.710267\n",
       "C  0.885244 -1.017007\n",
       "D -1.274984  0.293494"
      ]
     },
     "execution_count": 7,
     "metadata": {},
     "output_type": "execute_result"
    }
   ],
   "source": [
    "#seleciona as colunas V e W\n",
    "df[['V', 'W']]"
   ]
  },
  {
   "cell_type": "code",
   "execution_count": 8,
   "metadata": {},
   "outputs": [
    {
     "data": {
      "text/plain": [
       "A   -0.467002\n",
       "B    0.257953\n",
       "C    0.493443\n",
       "D    1.272640\n",
       "Name: Z, dtype: float64"
      ]
     },
     "execution_count": 8,
     "metadata": {},
     "output_type": "execute_result"
    }
   ],
   "source": [
    "#tambem é possivel fazer dessa maneira\n",
    "df.Z"
   ]
  },
  {
   "cell_type": "code",
   "execution_count": 9,
   "metadata": {},
   "outputs": [],
   "source": [
    "#cria uma nova coluna que é a soma de W, X e Z\n",
    "df['new'] = df['W'] + df['X'] + df['Z']"
   ]
  },
  {
   "cell_type": "code",
   "execution_count": 10,
   "metadata": {},
   "outputs": [
    {
     "data": {
      "text/html": [
       "<div>\n",
       "<style scoped>\n",
       "    .dataframe tbody tr th:only-of-type {\n",
       "        vertical-align: middle;\n",
       "    }\n",
       "\n",
       "    .dataframe tbody tr th {\n",
       "        vertical-align: top;\n",
       "    }\n",
       "\n",
       "    .dataframe thead th {\n",
       "        text-align: right;\n",
       "    }\n",
       "</style>\n",
       "<table border=\"1\" class=\"dataframe\">\n",
       "  <thead>\n",
       "    <tr style=\"text-align: right;\">\n",
       "      <th></th>\n",
       "      <th>U</th>\n",
       "      <th>V</th>\n",
       "      <th>W</th>\n",
       "      <th>X</th>\n",
       "      <th>Y</th>\n",
       "      <th>Z</th>\n",
       "      <th>new</th>\n",
       "    </tr>\n",
       "  </thead>\n",
       "  <tbody>\n",
       "    <tr>\n",
       "      <th>A</th>\n",
       "      <td>-0.607548</td>\n",
       "      <td>-0.126136</td>\n",
       "      <td>-0.684606</td>\n",
       "      <td>0.928715</td>\n",
       "      <td>-1.844401</td>\n",
       "      <td>-0.467002</td>\n",
       "      <td>-0.222894</td>\n",
       "    </tr>\n",
       "    <tr>\n",
       "      <th>B</th>\n",
       "      <td>2.292490</td>\n",
       "      <td>0.488810</td>\n",
       "      <td>0.710267</td>\n",
       "      <td>1.055534</td>\n",
       "      <td>0.054073</td>\n",
       "      <td>0.257953</td>\n",
       "      <td>2.023755</td>\n",
       "    </tr>\n",
       "    <tr>\n",
       "      <th>C</th>\n",
       "      <td>0.588282</td>\n",
       "      <td>0.885244</td>\n",
       "      <td>-1.017007</td>\n",
       "      <td>-0.133693</td>\n",
       "      <td>-0.438186</td>\n",
       "      <td>0.493443</td>\n",
       "      <td>-0.657257</td>\n",
       "    </tr>\n",
       "    <tr>\n",
       "      <th>D</th>\n",
       "      <td>-0.199009</td>\n",
       "      <td>-1.274984</td>\n",
       "      <td>0.293494</td>\n",
       "      <td>0.108950</td>\n",
       "      <td>0.031727</td>\n",
       "      <td>1.272640</td>\n",
       "      <td>1.675084</td>\n",
       "    </tr>\n",
       "  </tbody>\n",
       "</table>\n",
       "</div>"
      ],
      "text/plain": [
       "          U         V         W         X         Y         Z       new\n",
       "A -0.607548 -0.126136 -0.684606  0.928715 -1.844401 -0.467002 -0.222894\n",
       "B  2.292490  0.488810  0.710267  1.055534  0.054073  0.257953  2.023755\n",
       "C  0.588282  0.885244 -1.017007 -0.133693 -0.438186  0.493443 -0.657257\n",
       "D -0.199009 -1.274984  0.293494  0.108950  0.031727  1.272640  1.675084"
      ]
     },
     "execution_count": 10,
     "metadata": {},
     "output_type": "execute_result"
    }
   ],
   "source": [
    "df"
   ]
  },
  {
   "cell_type": "code",
   "execution_count": 11,
   "metadata": {},
   "outputs": [],
   "source": [
    "#remove a coluna new\n",
    "#inplace eh necessario para realizar as alteracoes de fato\n",
    "df.drop('new', axis=1, inplace=True)"
   ]
  },
  {
   "cell_type": "code",
   "execution_count": 12,
   "metadata": {},
   "outputs": [
    {
     "data": {
      "text/plain": [
       "2.2924903431515506"
      ]
     },
     "execution_count": 12,
     "metadata": {},
     "output_type": "execute_result"
    }
   ],
   "source": [
    "#retorna o dado que esta armazenado em determinada localizacao\n",
    "df.loc['B', 'U']"
   ]
  },
  {
   "cell_type": "code",
   "execution_count": 13,
   "metadata": {},
   "outputs": [
    {
     "data": {
      "text/plain": [
       "-1.8444010340502783"
      ]
     },
     "execution_count": 13,
     "metadata": {},
     "output_type": "execute_result"
    }
   ],
   "source": [
    "#permite localizar os dados utilizando indices numericos\n",
    "df.iloc[0, 4]"
   ]
  },
  {
   "cell_type": "code",
   "execution_count": 14,
   "metadata": {},
   "outputs": [
    {
     "data": {
      "text/html": [
       "<div>\n",
       "<style scoped>\n",
       "    .dataframe tbody tr th:only-of-type {\n",
       "        vertical-align: middle;\n",
       "    }\n",
       "\n",
       "    .dataframe tbody tr th {\n",
       "        vertical-align: top;\n",
       "    }\n",
       "\n",
       "    .dataframe thead th {\n",
       "        text-align: right;\n",
       "    }\n",
       "</style>\n",
       "<table border=\"1\" class=\"dataframe\">\n",
       "  <thead>\n",
       "    <tr style=\"text-align: right;\">\n",
       "      <th></th>\n",
       "      <th>U</th>\n",
       "      <th>V</th>\n",
       "      <th>W</th>\n",
       "      <th>X</th>\n",
       "      <th>Y</th>\n",
       "      <th>Z</th>\n",
       "    </tr>\n",
       "  </thead>\n",
       "  <tbody>\n",
       "    <tr>\n",
       "      <th>A</th>\n",
       "      <td>-0.607548</td>\n",
       "      <td>-0.126136</td>\n",
       "      <td>-0.684606</td>\n",
       "      <td>0.928715</td>\n",
       "      <td>-1.844401</td>\n",
       "      <td>-0.467002</td>\n",
       "    </tr>\n",
       "    <tr>\n",
       "      <th>B</th>\n",
       "      <td>2.292490</td>\n",
       "      <td>0.488810</td>\n",
       "      <td>0.710267</td>\n",
       "      <td>1.055534</td>\n",
       "      <td>0.054073</td>\n",
       "      <td>0.257953</td>\n",
       "    </tr>\n",
       "    <tr>\n",
       "      <th>C</th>\n",
       "      <td>0.588282</td>\n",
       "      <td>0.885244</td>\n",
       "      <td>-1.017007</td>\n",
       "      <td>-0.133693</td>\n",
       "      <td>-0.438186</td>\n",
       "      <td>0.493443</td>\n",
       "    </tr>\n",
       "    <tr>\n",
       "      <th>D</th>\n",
       "      <td>-0.199009</td>\n",
       "      <td>-1.274984</td>\n",
       "      <td>0.293494</td>\n",
       "      <td>0.108950</td>\n",
       "      <td>0.031727</td>\n",
       "      <td>1.272640</td>\n",
       "    </tr>\n",
       "  </tbody>\n",
       "</table>\n",
       "</div>"
      ],
      "text/plain": [
       "          U         V         W         X         Y         Z\n",
       "A -0.607548 -0.126136 -0.684606  0.928715 -1.844401 -0.467002\n",
       "B  2.292490  0.488810  0.710267  1.055534  0.054073  0.257953\n",
       "C  0.588282  0.885244 -1.017007 -0.133693 -0.438186  0.493443\n",
       "D -0.199009 -1.274984  0.293494  0.108950  0.031727  1.272640"
      ]
     },
     "execution_count": 14,
     "metadata": {},
     "output_type": "execute_result"
    }
   ],
   "source": [
    "df"
   ]
  },
  {
   "cell_type": "code",
   "execution_count": 15,
   "metadata": {},
   "outputs": [],
   "source": [
    "#retorna valores true ou false de acordo com a condicao\n",
    "bol = df > 1"
   ]
  },
  {
   "cell_type": "code",
   "execution_count": 16,
   "metadata": {},
   "outputs": [
    {
     "data": {
      "text/html": [
       "<div>\n",
       "<style scoped>\n",
       "    .dataframe tbody tr th:only-of-type {\n",
       "        vertical-align: middle;\n",
       "    }\n",
       "\n",
       "    .dataframe tbody tr th {\n",
       "        vertical-align: top;\n",
       "    }\n",
       "\n",
       "    .dataframe thead th {\n",
       "        text-align: right;\n",
       "    }\n",
       "</style>\n",
       "<table border=\"1\" class=\"dataframe\">\n",
       "  <thead>\n",
       "    <tr style=\"text-align: right;\">\n",
       "      <th></th>\n",
       "      <th>U</th>\n",
       "      <th>V</th>\n",
       "      <th>W</th>\n",
       "      <th>X</th>\n",
       "      <th>Y</th>\n",
       "      <th>Z</th>\n",
       "    </tr>\n",
       "  </thead>\n",
       "  <tbody>\n",
       "    <tr>\n",
       "      <th>A</th>\n",
       "      <td>NaN</td>\n",
       "      <td>NaN</td>\n",
       "      <td>NaN</td>\n",
       "      <td>NaN</td>\n",
       "      <td>NaN</td>\n",
       "      <td>NaN</td>\n",
       "    </tr>\n",
       "    <tr>\n",
       "      <th>B</th>\n",
       "      <td>2.29249</td>\n",
       "      <td>NaN</td>\n",
       "      <td>NaN</td>\n",
       "      <td>1.055534</td>\n",
       "      <td>NaN</td>\n",
       "      <td>NaN</td>\n",
       "    </tr>\n",
       "    <tr>\n",
       "      <th>C</th>\n",
       "      <td>NaN</td>\n",
       "      <td>NaN</td>\n",
       "      <td>NaN</td>\n",
       "      <td>NaN</td>\n",
       "      <td>NaN</td>\n",
       "      <td>NaN</td>\n",
       "    </tr>\n",
       "    <tr>\n",
       "      <th>D</th>\n",
       "      <td>NaN</td>\n",
       "      <td>NaN</td>\n",
       "      <td>NaN</td>\n",
       "      <td>NaN</td>\n",
       "      <td>NaN</td>\n",
       "      <td>1.27264</td>\n",
       "    </tr>\n",
       "  </tbody>\n",
       "</table>\n",
       "</div>"
      ],
      "text/plain": [
       "         U   V   W         X   Y        Z\n",
       "A      NaN NaN NaN       NaN NaN      NaN\n",
       "B  2.29249 NaN NaN  1.055534 NaN      NaN\n",
       "C      NaN NaN NaN       NaN NaN      NaN\n",
       "D      NaN NaN NaN       NaN NaN  1.27264"
      ]
     },
     "execution_count": 16,
     "metadata": {},
     "output_type": "execute_result"
    }
   ],
   "source": [
    "#printa apenas os valores true\n",
    "df[bol]"
   ]
  },
  {
   "cell_type": "code",
   "execution_count": 17,
   "metadata": {},
   "outputs": [
    {
     "data": {
      "text/html": [
       "<div>\n",
       "<style scoped>\n",
       "    .dataframe tbody tr th:only-of-type {\n",
       "        vertical-align: middle;\n",
       "    }\n",
       "\n",
       "    .dataframe tbody tr th {\n",
       "        vertical-align: top;\n",
       "    }\n",
       "\n",
       "    .dataframe thead th {\n",
       "        text-align: right;\n",
       "    }\n",
       "</style>\n",
       "<table border=\"1\" class=\"dataframe\">\n",
       "  <thead>\n",
       "    <tr style=\"text-align: right;\">\n",
       "      <th></th>\n",
       "      <th>U</th>\n",
       "      <th>V</th>\n",
       "      <th>W</th>\n",
       "      <th>X</th>\n",
       "      <th>Y</th>\n",
       "      <th>Z</th>\n",
       "    </tr>\n",
       "  </thead>\n",
       "  <tbody>\n",
       "    <tr>\n",
       "      <th>B</th>\n",
       "      <td>2.292490</td>\n",
       "      <td>0.488810</td>\n",
       "      <td>0.710267</td>\n",
       "      <td>1.055534</td>\n",
       "      <td>0.054073</td>\n",
       "      <td>0.257953</td>\n",
       "    </tr>\n",
       "    <tr>\n",
       "      <th>D</th>\n",
       "      <td>-0.199009</td>\n",
       "      <td>-1.274984</td>\n",
       "      <td>0.293494</td>\n",
       "      <td>0.108950</td>\n",
       "      <td>0.031727</td>\n",
       "      <td>1.272640</td>\n",
       "    </tr>\n",
       "  </tbody>\n",
       "</table>\n",
       "</div>"
      ],
      "text/plain": [
       "          U         V         W         X         Y         Z\n",
       "B  2.292490  0.488810  0.710267  1.055534  0.054073  0.257953\n",
       "D -0.199009 -1.274984  0.293494  0.108950  0.031727  1.272640"
      ]
     },
     "execution_count": 17,
     "metadata": {},
     "output_type": "execute_result"
    }
   ],
   "source": [
    "#seleciona apenas as linhas onde o argumento passado eh valido\n",
    "#nesse caso, apenas a linha onde o valor Y eh maior do que 0\n",
    "df[df['Y'] > 0]"
   ]
  },
  {
   "cell_type": "code",
   "execution_count": 18,
   "metadata": {},
   "outputs": [
    {
     "data": {
      "text/plain": [
       "B    2.292490\n",
       "D   -0.199009\n",
       "Name: U, dtype: float64"
      ]
     },
     "execution_count": 18,
     "metadata": {},
     "output_type": "execute_result"
    }
   ],
   "source": [
    "#mesma logica do exemplo anterior, mas mostra apenas a coluna U\n",
    "df[df['Y'] > 0]['U']"
   ]
  },
  {
   "cell_type": "code",
   "execution_count": 19,
   "metadata": {},
   "outputs": [
    {
     "data": {
      "text/html": [
       "<div>\n",
       "<style scoped>\n",
       "    .dataframe tbody tr th:only-of-type {\n",
       "        vertical-align: middle;\n",
       "    }\n",
       "\n",
       "    .dataframe tbody tr th {\n",
       "        vertical-align: top;\n",
       "    }\n",
       "\n",
       "    .dataframe thead th {\n",
       "        text-align: right;\n",
       "    }\n",
       "</style>\n",
       "<table border=\"1\" class=\"dataframe\">\n",
       "  <thead>\n",
       "    <tr style=\"text-align: right;\">\n",
       "      <th></th>\n",
       "      <th>U</th>\n",
       "      <th>V</th>\n",
       "      <th>W</th>\n",
       "      <th>X</th>\n",
       "      <th>Y</th>\n",
       "      <th>Z</th>\n",
       "    </tr>\n",
       "  </thead>\n",
       "  <tbody>\n",
       "    <tr>\n",
       "      <th>D</th>\n",
       "      <td>-0.199009</td>\n",
       "      <td>-1.274984</td>\n",
       "      <td>0.293494</td>\n",
       "      <td>0.10895</td>\n",
       "      <td>0.031727</td>\n",
       "      <td>1.27264</td>\n",
       "    </tr>\n",
       "  </tbody>\n",
       "</table>\n",
       "</div>"
      ],
      "text/plain": [
       "          U         V         W        X         Y        Z\n",
       "D -0.199009 -1.274984  0.293494  0.10895  0.031727  1.27264"
      ]
     },
     "execution_count": 19,
     "metadata": {},
     "output_type": "execute_result"
    }
   ],
   "source": [
    "#os operadores logicos tambem podem restringir o resultado\n",
    "df[(df['Y']>0) & (df['U']<0)] "
   ]
  },
  {
   "cell_type": "code",
   "execution_count": 20,
   "metadata": {},
   "outputs": [
    {
     "data": {
      "text/html": [
       "<div>\n",
       "<style scoped>\n",
       "    .dataframe tbody tr th:only-of-type {\n",
       "        vertical-align: middle;\n",
       "    }\n",
       "\n",
       "    .dataframe tbody tr th {\n",
       "        vertical-align: top;\n",
       "    }\n",
       "\n",
       "    .dataframe thead th {\n",
       "        text-align: right;\n",
       "    }\n",
       "</style>\n",
       "<table border=\"1\" class=\"dataframe\">\n",
       "  <thead>\n",
       "    <tr style=\"text-align: right;\">\n",
       "      <th></th>\n",
       "      <th>index</th>\n",
       "      <th>U</th>\n",
       "      <th>V</th>\n",
       "      <th>W</th>\n",
       "      <th>X</th>\n",
       "      <th>Y</th>\n",
       "      <th>Z</th>\n",
       "    </tr>\n",
       "  </thead>\n",
       "  <tbody>\n",
       "    <tr>\n",
       "      <th>0</th>\n",
       "      <td>A</td>\n",
       "      <td>-0.607548</td>\n",
       "      <td>-0.126136</td>\n",
       "      <td>-0.684606</td>\n",
       "      <td>0.928715</td>\n",
       "      <td>-1.844401</td>\n",
       "      <td>-0.467002</td>\n",
       "    </tr>\n",
       "    <tr>\n",
       "      <th>1</th>\n",
       "      <td>B</td>\n",
       "      <td>2.292490</td>\n",
       "      <td>0.488810</td>\n",
       "      <td>0.710267</td>\n",
       "      <td>1.055534</td>\n",
       "      <td>0.054073</td>\n",
       "      <td>0.257953</td>\n",
       "    </tr>\n",
       "    <tr>\n",
       "      <th>2</th>\n",
       "      <td>C</td>\n",
       "      <td>0.588282</td>\n",
       "      <td>0.885244</td>\n",
       "      <td>-1.017007</td>\n",
       "      <td>-0.133693</td>\n",
       "      <td>-0.438186</td>\n",
       "      <td>0.493443</td>\n",
       "    </tr>\n",
       "    <tr>\n",
       "      <th>3</th>\n",
       "      <td>D</td>\n",
       "      <td>-0.199009</td>\n",
       "      <td>-1.274984</td>\n",
       "      <td>0.293494</td>\n",
       "      <td>0.108950</td>\n",
       "      <td>0.031727</td>\n",
       "      <td>1.272640</td>\n",
       "    </tr>\n",
       "  </tbody>\n",
       "</table>\n",
       "</div>"
      ],
      "text/plain": [
       "  index         U         V         W         X         Y         Z\n",
       "0     A -0.607548 -0.126136 -0.684606  0.928715 -1.844401 -0.467002\n",
       "1     B  2.292490  0.488810  0.710267  1.055534  0.054073  0.257953\n",
       "2     C  0.588282  0.885244 -1.017007 -0.133693 -0.438186  0.493443\n",
       "3     D -0.199009 -1.274984  0.293494  0.108950  0.031727  1.272640"
      ]
     },
     "execution_count": 20,
     "metadata": {},
     "output_type": "execute_result"
    }
   ],
   "source": [
    "#retorna os indices de volta para a coluna padrao baseada em numeros inteiros\n",
    "df.reset_index(inplace=True)\n",
    "df"
   ]
  },
  {
   "cell_type": "code",
   "execution_count": 21,
   "metadata": {},
   "outputs": [
    {
     "data": {
      "text/plain": [
       "['Civic', 'Corsa', 'Montana', 'Fusca']"
      ]
     },
     "execution_count": 21,
     "metadata": {},
     "output_type": "execute_result"
    }
   ],
   "source": [
    "col = 'Civic Corsa Montana Fusca'.split()\n",
    "col"
   ]
  },
  {
   "cell_type": "code",
   "execution_count": 22,
   "metadata": {},
   "outputs": [],
   "source": [
    "#cria a coluna carros e adiciona os valores de col\n",
    "df['Carros'] = col"
   ]
  },
  {
   "cell_type": "code",
   "execution_count": 23,
   "metadata": {},
   "outputs": [
    {
     "data": {
      "text/html": [
       "<div>\n",
       "<style scoped>\n",
       "    .dataframe tbody tr th:only-of-type {\n",
       "        vertical-align: middle;\n",
       "    }\n",
       "\n",
       "    .dataframe tbody tr th {\n",
       "        vertical-align: top;\n",
       "    }\n",
       "\n",
       "    .dataframe thead th {\n",
       "        text-align: right;\n",
       "    }\n",
       "</style>\n",
       "<table border=\"1\" class=\"dataframe\">\n",
       "  <thead>\n",
       "    <tr style=\"text-align: right;\">\n",
       "      <th></th>\n",
       "      <th>index</th>\n",
       "      <th>U</th>\n",
       "      <th>V</th>\n",
       "      <th>W</th>\n",
       "      <th>X</th>\n",
       "      <th>Y</th>\n",
       "      <th>Z</th>\n",
       "      <th>Carros</th>\n",
       "    </tr>\n",
       "  </thead>\n",
       "  <tbody>\n",
       "    <tr>\n",
       "      <th>0</th>\n",
       "      <td>A</td>\n",
       "      <td>-0.607548</td>\n",
       "      <td>-0.126136</td>\n",
       "      <td>-0.684606</td>\n",
       "      <td>0.928715</td>\n",
       "      <td>-1.844401</td>\n",
       "      <td>-0.467002</td>\n",
       "      <td>Civic</td>\n",
       "    </tr>\n",
       "    <tr>\n",
       "      <th>1</th>\n",
       "      <td>B</td>\n",
       "      <td>2.292490</td>\n",
       "      <td>0.488810</td>\n",
       "      <td>0.710267</td>\n",
       "      <td>1.055534</td>\n",
       "      <td>0.054073</td>\n",
       "      <td>0.257953</td>\n",
       "      <td>Corsa</td>\n",
       "    </tr>\n",
       "    <tr>\n",
       "      <th>2</th>\n",
       "      <td>C</td>\n",
       "      <td>0.588282</td>\n",
       "      <td>0.885244</td>\n",
       "      <td>-1.017007</td>\n",
       "      <td>-0.133693</td>\n",
       "      <td>-0.438186</td>\n",
       "      <td>0.493443</td>\n",
       "      <td>Montana</td>\n",
       "    </tr>\n",
       "    <tr>\n",
       "      <th>3</th>\n",
       "      <td>D</td>\n",
       "      <td>-0.199009</td>\n",
       "      <td>-1.274984</td>\n",
       "      <td>0.293494</td>\n",
       "      <td>0.108950</td>\n",
       "      <td>0.031727</td>\n",
       "      <td>1.272640</td>\n",
       "      <td>Fusca</td>\n",
       "    </tr>\n",
       "  </tbody>\n",
       "</table>\n",
       "</div>"
      ],
      "text/plain": [
       "  index         U         V         W         X         Y         Z   Carros\n",
       "0     A -0.607548 -0.126136 -0.684606  0.928715 -1.844401 -0.467002    Civic\n",
       "1     B  2.292490  0.488810  0.710267  1.055534  0.054073  0.257953    Corsa\n",
       "2     C  0.588282  0.885244 -1.017007 -0.133693 -0.438186  0.493443  Montana\n",
       "3     D -0.199009 -1.274984  0.293494  0.108950  0.031727  1.272640    Fusca"
      ]
     },
     "execution_count": 23,
     "metadata": {},
     "output_type": "execute_result"
    }
   ],
   "source": [
    "df"
   ]
  },
  {
   "cell_type": "code",
   "execution_count": 24,
   "metadata": {},
   "outputs": [
    {
     "data": {
      "text/html": [
       "<div>\n",
       "<style scoped>\n",
       "    .dataframe tbody tr th:only-of-type {\n",
       "        vertical-align: middle;\n",
       "    }\n",
       "\n",
       "    .dataframe tbody tr th {\n",
       "        vertical-align: top;\n",
       "    }\n",
       "\n",
       "    .dataframe thead th {\n",
       "        text-align: right;\n",
       "    }\n",
       "</style>\n",
       "<table border=\"1\" class=\"dataframe\">\n",
       "  <thead>\n",
       "    <tr style=\"text-align: right;\">\n",
       "      <th></th>\n",
       "      <th>index</th>\n",
       "      <th>U</th>\n",
       "      <th>V</th>\n",
       "      <th>W</th>\n",
       "      <th>X</th>\n",
       "      <th>Y</th>\n",
       "      <th>Z</th>\n",
       "    </tr>\n",
       "    <tr>\n",
       "      <th>Carros</th>\n",
       "      <th></th>\n",
       "      <th></th>\n",
       "      <th></th>\n",
       "      <th></th>\n",
       "      <th></th>\n",
       "      <th></th>\n",
       "      <th></th>\n",
       "    </tr>\n",
       "  </thead>\n",
       "  <tbody>\n",
       "    <tr>\n",
       "      <th>Civic</th>\n",
       "      <td>A</td>\n",
       "      <td>-0.607548</td>\n",
       "      <td>-0.126136</td>\n",
       "      <td>-0.684606</td>\n",
       "      <td>0.928715</td>\n",
       "      <td>-1.844401</td>\n",
       "      <td>-0.467002</td>\n",
       "    </tr>\n",
       "    <tr>\n",
       "      <th>Corsa</th>\n",
       "      <td>B</td>\n",
       "      <td>2.292490</td>\n",
       "      <td>0.488810</td>\n",
       "      <td>0.710267</td>\n",
       "      <td>1.055534</td>\n",
       "      <td>0.054073</td>\n",
       "      <td>0.257953</td>\n",
       "    </tr>\n",
       "    <tr>\n",
       "      <th>Montana</th>\n",
       "      <td>C</td>\n",
       "      <td>0.588282</td>\n",
       "      <td>0.885244</td>\n",
       "      <td>-1.017007</td>\n",
       "      <td>-0.133693</td>\n",
       "      <td>-0.438186</td>\n",
       "      <td>0.493443</td>\n",
       "    </tr>\n",
       "    <tr>\n",
       "      <th>Fusca</th>\n",
       "      <td>D</td>\n",
       "      <td>-0.199009</td>\n",
       "      <td>-1.274984</td>\n",
       "      <td>0.293494</td>\n",
       "      <td>0.108950</td>\n",
       "      <td>0.031727</td>\n",
       "      <td>1.272640</td>\n",
       "    </tr>\n",
       "  </tbody>\n",
       "</table>\n",
       "</div>"
      ],
      "text/plain": [
       "        index         U         V         W         X         Y         Z\n",
       "Carros                                                                   \n",
       "Civic       A -0.607548 -0.126136 -0.684606  0.928715 -1.844401 -0.467002\n",
       "Corsa       B  2.292490  0.488810  0.710267  1.055534  0.054073  0.257953\n",
       "Montana     C  0.588282  0.885244 -1.017007 -0.133693 -0.438186  0.493443\n",
       "Fusca       D -0.199009 -1.274984  0.293494  0.108950  0.031727  1.272640"
      ]
     },
     "execution_count": 24,
     "metadata": {},
     "output_type": "execute_result"
    }
   ],
   "source": [
    "#transforma a coluna carros em um indice\n",
    "df.set_index('Carros', inplace=True)\n",
    "df"
   ]
  }
 ],
 "metadata": {
  "kernelspec": {
   "display_name": "Python 3",
   "language": "python",
   "name": "python3"
  },
  "language_info": {
   "codemirror_mode": {
    "name": "ipython",
    "version": 3
   },
   "file_extension": ".py",
   "mimetype": "text/x-python",
   "name": "python",
   "nbconvert_exporter": "python",
   "pygments_lexer": "ipython3",
   "version": "3.12.3"
  }
 },
 "nbformat": 4,
 "nbformat_minor": 2
}
