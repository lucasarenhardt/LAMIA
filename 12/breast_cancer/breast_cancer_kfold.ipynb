{
 "cells": [
  {
   "cell_type": "markdown",
   "metadata": {},
   "source": [
    "# K-Fold Cross Validation"
   ]
  },
  {
   "cell_type": "code",
   "execution_count": 4,
   "metadata": {},
   "outputs": [],
   "source": [
    "import pandas as pd\n",
    "import keras\n",
    "from keras.models import Sequential\n",
    "from keras.layers import Dense, Dropout\n",
    "from sklearn.datasets import load_breast_cancer\n",
    "from scikeras.wrappers import KerasClassifier\n",
    "from sklearn.model_selection import cross_val_score"
   ]
  },
  {
   "cell_type": "code",
   "execution_count": 5,
   "metadata": {},
   "outputs": [],
   "source": [
    "#carregando o dataset\n",
    "\n",
    "breast_cancer = load_breast_cancer()\n",
    "previsores = breast_cancer.data\n",
    "classe = breast_cancer.target"
   ]
  },
  {
   "cell_type": "code",
   "execution_count": 6,
   "metadata": {},
   "outputs": [],
   "source": [
    "#função para criar as camadas da rede neural\n",
    "\n",
    "def criaRede():\n",
    "    classificador = Sequential()\n",
    "    classificador.add(Dense(units=16, activation='relu', \n",
    "                            kernel_initializer='random_uniform', input_dim=30))\n",
    "    classificador.add(Dropout(0.2))\n",
    "    classificador.add(Dense(units=16, activation='relu', \n",
    "                            kernel_initializer='random_uniform'))\n",
    "    classificador.add(Dropout(0.2))\n",
    "    classificador.add(Dense(units=1, activation='sigmoid'))\n",
    "    otimizador = keras.optimizers.Adam(learning_rate=0.001, decay=0.001, clipvalue=0.5)\n",
    "\n",
    "    classificador.compile(optimizer=otimizador, loss='binary_crossentropy',\n",
    "                        metrics=['binary_accuracy'])\n",
    "    \n",
    "    return classificador"
   ]
  },
  {
   "cell_type": "code",
   "execution_count": null,
   "metadata": {},
   "outputs": [],
   "source": [
    "#criando o classificador e realizando o treinamento\n",
    "\n",
    "classificador = KerasClassifier(build_fn = criaRede,\n",
    "                                epochs=100,\n",
    "                                batch_size=10)\n",
    "\n",
    "resultados = cross_val_score(estimator = classificador,\n",
    "                             X=previsores, y=classe,\n",
    "                             cv=10, scoring='accuracy')"
   ]
  },
  {
   "cell_type": "code",
   "execution_count": 10,
   "metadata": {},
   "outputs": [
    {
     "data": {
      "text/plain": [
       "0.9226503759398497"
      ]
     },
     "execution_count": 10,
     "metadata": {},
     "output_type": "execute_result"
    }
   ],
   "source": [
    "#obtendo a média dos resultados após a validação cruzada\n",
    "\n",
    "media = resultados.mean()\n",
    "media"
   ]
  },
  {
   "cell_type": "code",
   "execution_count": 11,
   "metadata": {},
   "outputs": [
    {
     "data": {
      "text/plain": [
       "0.029624882441123348"
      ]
     },
     "execution_count": 11,
     "metadata": {},
     "output_type": "execute_result"
    }
   ],
   "source": [
    "#obtendo o desvio padrão\n",
    "desvio = resultados.std()\n",
    "desvio"
   ]
  }
 ],
 "metadata": {
  "kernelspec": {
   "display_name": "Python 3",
   "language": "python",
   "name": "python3"
  },
  "language_info": {
   "codemirror_mode": {
    "name": "ipython",
    "version": 3
   },
   "file_extension": ".py",
   "mimetype": "text/x-python",
   "name": "python",
   "nbconvert_exporter": "python",
   "pygments_lexer": "ipython3",
   "version": "3.10.12"
  }
 },
 "nbformat": 4,
 "nbformat_minor": 2
}
