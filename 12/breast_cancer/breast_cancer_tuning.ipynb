{
 "cells": [
  {
   "cell_type": "markdown",
   "metadata": {},
   "source": [
    "# Tuning"
   ]
  },
  {
   "cell_type": "code",
   "execution_count": 2,
   "metadata": {},
   "outputs": [],
   "source": [
    "import pandas as pd\n",
    "import keras\n",
    "from keras.models import Sequential\n",
    "from keras.layers import Dense, Dropout\n",
    "from sklearn.datasets import load_breast_cancer\n",
    "from scikeras.wrappers import KerasClassifier\n",
    "from sklearn.model_selection import GridSearchCV"
   ]
  },
  {
   "cell_type": "code",
   "execution_count": 2,
   "metadata": {},
   "outputs": [],
   "source": [
    "#carregando o dataset\n",
    "\n",
    "breast_cancer = load_breast_cancer()\n",
    "previsores = breast_cancer.data\n",
    "classe = breast_cancer.target"
   ]
  },
  {
   "cell_type": "code",
   "execution_count": 3,
   "metadata": {},
   "outputs": [],
   "source": [
    "#função para criar as camadas da rede neural\n",
    "\n",
    "def criaRede(optimizer, loss, kernel_initializer, activation, neurons):\n",
    "    classificador = Sequential()\n",
    "    classificador.add(Dense(units=neurons, activation=activation, \n",
    "                            kernel_initializer=kernel_initializer, input_dim=30))\n",
    "    classificador.add(Dropout(0.2))\n",
    "    classificador.add(Dense(units=neurons, activation=activation, \n",
    "                            kernel_initializer=kernel_initializer))\n",
    "    classificador.add(Dropout(0.2))\n",
    "    classificador.add(Dense(units=1, activation='sigmoid'))\n",
    "    classificador.compile(optimizer=optimizer, loss=loss,\n",
    "                        metrics=['binary_accuracy'])\n",
    "    \n",
    "    return classificador"
   ]
  },
  {
   "cell_type": "code",
   "execution_count": 15,
   "metadata": {},
   "outputs": [],
   "source": [
    "#criando o classificador e configurando os parâmetros\n",
    "\n",
    "classificador = KerasClassifier(build_fn = criaRede)\n",
    "parametros = {'batch_size': [10, 30],\n",
    "              'epochs': [50, 100],\n",
    "              'optimizer': ['adam', 'sgd'],\n",
    "              'loss': ['binary_crossentropy', 'hinge'],\n",
    "              'kernel_initializer': ['random_uniform', 'normal'],\n",
    "              'activation': ['relu', 'tanh'],\n",
    "              'neurons': [16, 8]}"
   ]
  },
  {
   "cell_type": "code",
   "execution_count": null,
   "metadata": {},
   "outputs": [],
   "source": [
    "#buscando qual a melhor combinação de parâmetros\n",
    "\n",
    "grid_search = GridSearchCV(estimator = classificador,\n",
    "                           param_grid=parametros,\n",
    "                           scoring='accuracy',\n",
    "                           cv=5)\n",
    "\n",
    "grid_search = grid_search.fit(previsores, classe)\n",
    "melhroes_parametros = grid_search.best_params_\n",
    "melhor_precisao = grid_search.best_score_"
   ]
  }
 ],
 "metadata": {
  "kernelspec": {
   "display_name": "Python 3",
   "language": "python",
   "name": "python3"
  },
  "language_info": {
   "codemirror_mode": {
    "name": "ipython",
    "version": 3
   },
   "file_extension": ".py",
   "mimetype": "text/x-python",
   "name": "python",
   "nbconvert_exporter": "python",
   "pygments_lexer": "ipython3",
   "version": "3.10.12"
  }
 },
 "nbformat": 4,
 "nbformat_minor": 2
}
